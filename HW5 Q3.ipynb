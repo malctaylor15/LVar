{
 "cells": [
  {
   "cell_type": "markdown",
   "metadata": {},
   "source": [
    "# Homework 5 Question 3 "
   ]
  },
  {
   "cell_type": "markdown",
   "metadata": {},
   "source": [
    "# Question 1:\n",
    "Write explicitly the losses $L_{t+\\Delta}$ in terms of quantities known at time t and the random variables $X_{t+\\Delta} , s_{t+\\Delta}$ "
   ]
  },
  {
   "cell_type": "markdown",
   "metadata": {},
   "source": [
    "$$L_{t+\\Delta} = -\\Delta_t (S^b_{t+\\Delta} - S_{t}) $$ \n",
    "\n",
    "where \n",
    "\n",
    "$$ \\frac {1} {2} s_{t+\\Delta} = \\frac {S_{t+\\Delta} - S^b_{t+\\Delta}} {S_{t+\\Delta}}  $$\n",
    "\n",
    "$$ S^b_{t+\\Delta} = - \\frac {1} {2} s_{t+\\Delta} * S_{t+\\Delta} + S_{t+\\Delta} $$\n",
    "\n",
    "$$ S^b_{t+\\Delta} = - S_{t+\\Delta} (\\frac {1} {2} s_{t+\\Delta} - 1) $$\n",
    "\n",
    "and \n",
    "\n",
    "$$ S_{t+\\Delta} = S_t * e^{X_{t+\\Delta}} $$\n",
    "\n",
    "so \n",
    "\n",
    "$$ S^b_{t+\\Delta} = -S_t * e^{X_{t+\\Delta}}*(\\frac {1} {2} s_{t+\\Delta} - 1) $$\n",
    "\n"
   ]
  },
  {
   "cell_type": "markdown",
   "metadata": {},
   "source": [
    "The Losses can then be calculated using:: \n",
    "\n",
    "$$ L_{t+\\Delta} = -\\Delta_t [-S_t * e^{X_{t+\\Delta}}*(\\frac {1} {2} s_{t+\\Delta} - 1) - S_t * e^{X_{t+\\Delta}} ] $$\n",
    "\n",
    "$$ L_{t+\\Delta} = -\\Delta_t * [S_t * e^{X_{t+\\Delta}} * (1- \\frac {1} {2} s_{t+\\Delta}) + S_t]$$"
   ]
  },
  {
   "cell_type": "markdown",
   "metadata": {},
   "source": [
    "# Question 2 \n",
    "\n",
    "$$LVAR_\\alpha^{ind} = VaR_\\alpha + LC$$\n",
    "\n",
    "$$ LC = 1/2 \\Delta_t S_t(\\mu_{s,t+\\Delta} + k\\sigma_{s,t+\\Delta})$$"
   ]
  },
  {
   "cell_type": "markdown",
   "metadata": {},
   "source": [
    "The LC cost can be computed using k = 3, $ \\mu_{s,t+\\Delta} = 0.2 $ , $ \\sigma_{s,t+\\Delta} = 0.08, S_t = 59, \\Delta_t = 100$,  "
   ]
  },
  {
   "cell_type": "code",
   "execution_count": 1,
   "metadata": {
    "collapsed": false
   },
   "outputs": [
    {
     "data": {
      "text/plain": [
       "12.98"
      ]
     },
     "execution_count": 1,
     "metadata": {},
     "output_type": "execute_result"
    }
   ],
   "source": [
    "k = 3\n",
    "mu_s = 0.002\n",
    "sigma_s = 0.0008\n",
    "St = 59 \n",
    "delta_t = 100 \n",
    "\n",
    "LC = 0.5*delta_t*St*(mu_s+k*sigma_s)\n",
    "LC"
   ]
  },
  {
   "cell_type": "markdown",
   "metadata": {},
   "source": [
    "$$ VaR_{\\alpha} = \\Delta_t S_t (1-e^{\\mu_{t+\\Delta} +\\sigma_{t+\\Delta}N^{-1}(1-\\alpha)}) $$\n",
    "$$Z_{1-\\alpha} = Z_{0.01} = -2.326348 $$\n"
   ]
  },
  {
   "cell_type": "code",
   "execution_count": 2,
   "metadata": {
    "collapsed": false
   },
   "outputs": [
    {
     "data": {
      "text/plain": [
       "337.202669461597"
      ]
     },
     "execution_count": 2,
     "metadata": {},
     "output_type": "execute_result"
    }
   ],
   "source": [
    "import math\n",
    "mu_t = 0 \n",
    "sigma_t = 0.4/math.sqrt(250)\n",
    "Z_alpha = -2.3263\n",
    "VaR = St*delta_t*(1-math.exp(mu_t + sigma_t*Z_alpha))\n",
    "VaR"
   ]
  },
  {
   "cell_type": "code",
   "execution_count": 3,
   "metadata": {
    "collapsed": false
   },
   "outputs": [
    {
     "data": {
      "text/plain": [
       "350.182669461597"
      ]
     },
     "execution_count": 3,
     "metadata": {},
     "output_type": "execute_result"
    }
   ],
   "source": [
    "LVar_ind_alpha = VaR+LC\n",
    "LVar_ind_alpha"
   ]
  },
  {
   "cell_type": "markdown",
   "metadata": {},
   "source": [
    "# Question 3: \n",
    "Simulation "
   ]
  },
  {
   "cell_type": "markdown",
   "metadata": {},
   "source": [
    "Start my importing packages and setting plot parameters "
   ]
  },
  {
   "cell_type": "code",
   "execution_count": 4,
   "metadata": {
    "collapsed": false
   },
   "outputs": [
    {
     "data": {
      "text/plain": [
       "<matplotlib.figure.Figure at 0x10f0712b160>"
      ]
     },
     "metadata": {},
     "output_type": "display_data"
    }
   ],
   "source": [
    "import numpy as np \n",
    "import pandas as pd\n",
    "import matplotlib.pyplot as plt\n",
    "%matplotlib inline\n",
    "\n",
    "# Specify Parameters for graphs \n",
    "fig = plt.figure(figsize=(18,6), dpi=1600) \n",
    "alpha=alpha_scatterplot = 0.2 \n",
    "alpha_bar_chart = 0.55\n",
    "\n"
   ]
  },
  {
   "cell_type": "markdown",
   "metadata": {},
   "source": [
    "Create function to sample s and X from normal distributions with the respective mean and standard deviation \n",
    "Next we calculate the loss using the formula from part 1\n",
    "\n",
    "We draw X and s from their respective normal distributions and then use the equation \n",
    "\n",
    "$$ L_{t+\\Delta} = -\\Delta_t * [S_t * e^{X_{t+\\Delta}} * (1- \\frac {1} {2} s_{t+\\Delta}) + S_t]$$\n"
   ]
  },
  {
   "cell_type": "code",
   "execution_count": 5,
   "metadata": {
    "collapsed": false
   },
   "outputs": [],
   "source": [
    "def Lossfunction(mu_s, mu_t, sigma_s, sigma_t, St, delta_t):\n",
    "    s_sample = np.random.normal(loc = mu_s, scale = sigma_s)\n",
    "    X_sample = np.random.normal(loc = mu_t, scale= sigma_t)\n",
    "    Loss = -delta_t *( St * np.exp(X_sample)*( 1-0.5*s_sample)+St)\n",
    "    return(Loss)"
   ]
  },
  {
   "cell_type": "code",
   "execution_count": null,
   "metadata": {
    "collapsed": false,
    "scrolled": true
   },
   "outputs": [
    {
     "name": "stdout",
     "output_type": "stream",
     "text": [
      "0.0018539313170938365 0.00016554140458384058 -11795.5067723\n",
      "0.999238435985\n",
      "58.9550677231\n",
      "0 0.0008\n"
     ]
    },
    {
     "data": {
      "text/plain": [
       "100"
      ]
     },
     "execution_count": 6,
     "metadata": {},
     "output_type": "execute_result"
    }
   ],
   "source": [
    "X_sample = np.random.normal(loc = mu_t, scale= sigma_t/10)\n",
    "s_sample = np.random.normal(loc = mu_s, scale = sigma_s)\n",
    "Loss = -delta_t *( (St * np.exp(X_sample)*( 1-(0.5*s_sample)))+St)\n",
    "Loss2 = -delta_t * St*(np.exp(X_sample*s_sample-1))\n",
    "print(s_sample, X_sample, Loss)\n",
    "print(np.exp(X_sample)*( 1-(0.5*s_sample)))\n",
    "print((St * np.exp(X_sample)*( 1-(0.5*s_sample))))\n",
    "print(mu_t, sigma_s)\n",
    "delta_t\n"
   ]
  },
  {
   "cell_type": "markdown",
   "metadata": {},
   "source": [
    "\n",
    "Pre allocate space and then simulate returns 100000 (numb_sim) times "
   ]
  },
  {
   "cell_type": "code",
   "execution_count": null,
   "metadata": {
    "collapsed": false
   },
   "outputs": [],
   "source": [
    "numb_sim = 100000 # M \n",
    "LVAR_sim = pd.Series(data = np.repeat(0,numb_sim))\n",
    "X_sample = np.random.normal(loc = mu_t, scale= sigma_t, size = numb_sim)\n",
    "s_sample = np.random.normal(loc = mu_s, scale = sigma_s, size = numb_sim)\n",
    "for sim in range(numb_sim):\n",
    "    LVAR_sim.loc[sim] = -delta_t *( St * np.exp(X_sample[sim])*( 1-0.5*s_sample[sim])+St)\n",
    "LVAR_sim.describe()"
   ]
  },
  {
   "cell_type": "code",
   "execution_count": null,
   "metadata": {
    "collapsed": false
   },
   "outputs": [],
   "source": [
    "LVAR_sim.plot(kind = 'hist', bins = 40)\n",
    "quantile99 = LVAR_sim.quantile(q=0.99)\n",
    "plt.axvline(x = quantile99, color = 'r', linewidth = 2.0)"
   ]
  },
  {
   "cell_type": "markdown",
   "metadata": {},
   "source": [
    "### Part 1 ###\n",
    "The confidence $\\alpha$ = 0.99"
   ]
  },
  {
   "cell_type": "markdown",
   "metadata": {
    "collapsed": false
   },
   "source": [
    "### Part 2 ###\n",
    "\n",
    "The estimate of $LVAR_{\\alpha}^{sim}$ found via simulation "
   ]
  },
  {
   "cell_type": "code",
   "execution_count": null,
   "metadata": {
    "collapsed": false
   },
   "outputs": [],
   "source": [
    "LVAR_99 = LVAR_sim.quantile(q=0.99)\n",
    "LVAR_99"
   ]
  },
  {
   "cell_type": "markdown",
   "metadata": {
    "collapsed": false
   },
   "source": [
    "### Part 3 ### \n",
    "\n",
    "The theoretical $VaR_{\\alpha} $ from question 2"
   ]
  },
  {
   "cell_type": "code",
   "execution_count": null,
   "metadata": {
    "collapsed": false
   },
   "outputs": [],
   "source": [
    "import math\n",
    "mu_t = 0 \n",
    "sigma_t = 0.4/math.sqrt(250)\n",
    "Z_alpha = -2.3263\n",
    "VaR = St*delta_t*(1-math.exp(mu_t + sigma_t*Z_alpha))\n",
    "VaR"
   ]
  },
  {
   "cell_type": "markdown",
   "metadata": {},
   "source": [
    "### Part 4 ###\n",
    "\n",
    "The estimated liquidity cost $LC^{sim} = LVAR_{\\alpha}^{sim} - VaR_{\\alpha}$ \n"
   ]
  },
  {
   "cell_type": "code",
   "execution_count": null,
   "metadata": {
    "collapsed": false
   },
   "outputs": [],
   "source": [
    "LC_sim = LVAR_99 - VaR\n",
    "LC_sim"
   ]
  },
  {
   "cell_type": "markdown",
   "metadata": {},
   "source": [
    "### Part 5 ### \n",
    "The estimated percentage increase in the risk measure: \n",
    "$$ 100*(\\frac{LVAR^{sim}_{\\alpha}} {VaR_{\\alpha}} - 1) $$"
   ]
  },
  {
   "cell_type": "code",
   "execution_count": null,
   "metadata": {
    "collapsed": false
   },
   "outputs": [],
   "source": [
    "100*(LVAR_99/VaR -1)"
   ]
  },
  {
   "cell_type": "markdown",
   "metadata": {},
   "source": [
    "### Part 6 ## \n",
    "\n",
    "The industry approximate $LVAR^{ind}_{\\alpha} $ "
   ]
  },
  {
   "cell_type": "code",
   "execution_count": null,
   "metadata": {
    "collapsed": false
   },
   "outputs": [],
   "source": [
    "LVar_ind_alpha"
   ]
  },
  {
   "cell_type": "markdown",
   "metadata": {},
   "source": [
    "### Part 7 ###\n",
    "The industry liquidity cost LC \n"
   ]
  },
  {
   "cell_type": "code",
   "execution_count": null,
   "metadata": {
    "collapsed": false
   },
   "outputs": [],
   "source": [
    "LC"
   ]
  },
  {
   "cell_type": "markdown",
   "metadata": {},
   "source": [
    "### Part 8 ## \n",
    "The industry percentage increase in the risk measure: $ 100 \\frac{LC} {VaR_{\\alpha}} $"
   ]
  },
  {
   "cell_type": "code",
   "execution_count": null,
   "metadata": {
    "collapsed": false
   },
   "outputs": [],
   "source": [
    "100*(LC/VaR)"
   ]
  },
  {
   "cell_type": "markdown",
   "metadata": {
    "collapsed": true
   },
   "source": [
    "How do the risk measures and liquidity costs compare? "
   ]
  },
  {
   "cell_type": "markdown",
   "metadata": {},
   "source": [
    "Both estimates are lower than the analytical solution. Most of the difference is in the Liquidity cost of the simulated case. "
   ]
  }
 ],
 "metadata": {
  "anaconda-cloud": {},
  "kernelspec": {
   "display_name": "Python [Root]",
   "language": "python",
   "name": "Python [Root]"
  },
  "language_info": {
   "codemirror_mode": {
    "name": "ipython",
    "version": 3
   },
   "file_extension": ".py",
   "mimetype": "text/x-python",
   "name": "python",
   "nbconvert_exporter": "python",
   "pygments_lexer": "ipython3",
   "version": "3.5.2"
  }
 },
 "nbformat": 4,
 "nbformat_minor": 0
}
